{
 "cells": [
  {
   "cell_type": "code",
   "execution_count": 13,
   "id": "81f49a1c",
   "metadata": {},
   "outputs": [],
   "source": [
    "fd=open(\"Inventory.txt\",'w')\n",
    "fd.close()"
   ]
  },
  {
   "cell_type": "markdown",
   "id": "9911a903",
   "metadata": {},
   "source": [
    "## Product Details \n",
    "1. Product ID\n",
    "2. Product Name\n",
    "3. Price Of Product\n",
    "4. Quantity"
   ]
  },
  {
   "cell_type": "code",
   "execution_count": 1,
   "id": "df53f05f",
   "metadata": {},
   "outputs": [
    {
     "data": {
      "text/plain": [
       "['1,5 Star,5,0', '2,Milky Bar,5,97', '3,Cake,300,5', '4,Candy,1,200']"
      ]
     },
     "execution_count": 1,
     "metadata": {},
     "output_type": "execute_result"
    }
   ],
   "source": [
    "fd=open('Inventory.txt','r')\n",
    "products=fd.read().split('\\n') #split return a list\n",
    "products"
   ]
  },
  {
   "cell_type": "markdown",
   "id": "95cfbcbd",
   "metadata": {},
   "source": [
    "Unique products"
   ]
  },
  {
   "cell_type": "code",
   "execution_count": 3,
   "id": "7488bef3",
   "metadata": {},
   "outputs": [
    {
     "name": "stdout",
     "output_type": "stream",
     "text": [
      "4\n"
     ]
    }
   ],
   "source": [
    "lines=len(products)\n",
    "print(lines)"
   ]
  },
  {
   "cell_type": "code",
   "execution_count": 4,
   "id": "61cce0c0",
   "metadata": {},
   "outputs": [
    {
     "name": "stdout",
     "output_type": "stream",
     "text": [
      "1,5 Star,5,98\n",
      "2,Milky Bar,5,99\n",
      "3,Cake,300,5\n",
      "4,Candy,1,200\n"
     ]
    }
   ],
   "source": [
    "for product in products:\n",
    "    print(product)"
   ]
  },
  {
   "cell_type": "markdown",
   "id": "2477f556",
   "metadata": {},
   "source": [
    "# Billing"
   ]
  },
  {
   "cell_type": "code",
   "execution_count": 2,
   "id": "b8dd7707",
   "metadata": {},
   "outputs": [
    {
     "name": "stdout",
     "output_type": "stream",
     "text": [
      "Enter your Name : shubh\n",
      "Enter your Number: 3244\n",
      "Enter your Mail: shu@gmail.com\n",
      "Enter product Id2\n",
      "Enter Number of Products1\n",
      "--------------------------------\n",
      "Product Name      Milky Bar\n",
      "Price             5\n",
      "Quantity          1\n",
      "--------------------------------\n",
      "Billing Amount    5\n",
      "--------------------------------\n"
     ]
    }
   ],
   "source": [
    "import time\n",
    "# Taking Input from User\n",
    "u_name=input(\"Enter your Name : \")\n",
    "u_number=input(\"Enter your Number: \")\n",
    "u_mail=input(\"Enter your Mail: \")\n",
    "u_pid=input(\"Enter product Id\")\n",
    "u_quantity= (int)(input(\"Enter Number of Products\"))\n",
    "updated_prod_list =[]\n",
    "for product in products:\n",
    "    #Checking if product exists or not\n",
    "    item=product.split(',')\n",
    "    if(item[0]==u_pid):\n",
    "        if((int)(item[3]) >= u_quantity):\n",
    "            #Checking if we have enough product or not\n",
    "            print(\"--------------------------------\")\n",
    "            print(\"Product Name     \",item[1])\n",
    "            print(\"Price            \",item[2])\n",
    "            print(\"Quantity         \",u_quantity)\n",
    "            print(\"--------------------------------\")\n",
    "            print(\"Billing Amount   \",(int)(item[2])*(int)(u_quantity))\n",
    "            print(\"--------------------------------\")\n",
    "            item[3]=str((int)(item[3])-(int)(u_quantity))\n",
    "            fd=open('sales.txt','a')\n",
    "            details=u_name+\",\"+u_number+\",\"+u_mail+\",\"+u_pid+\",\"+ (str)(u_quantity)+','+(str)(time.ctime())+'\\n'\n",
    "            fd.write(details)\n",
    "            fd.close()\n",
    "        else:\n",
    "            print(\"Sorry We have only \"+(str)(item[3]) +\" item at this time.\")\n",
    "            ch=input(\"Press Y to purchase it else press N\")\n",
    "            if(ch==\"y\" or ch==\"Y\"):\n",
    "                print(\"--------------------------------\")\n",
    "                print(\"Product Name     \",item[1])\n",
    "                print(\"Price            \",item[2])\n",
    "                print(\"Quantity         \",item[3])\n",
    "                print(\"--------------------------------\")\n",
    "                print(\"Billing Amount   \",(int)(item[2])*(int)(item[3]))\n",
    "                print(\"--------------------------------\")\n",
    "                fd=open('sales.txt','a')\n",
    "                details=u_name+\",\"+u_number+\",\"+ u_mail+\",\"+ u_pid+\",\" +item[3]+','+(str)(time.ctime())+'\\n'\n",
    "                item[3]='0'\n",
    "                fd.write(details)\n",
    "                fd.close()\n",
    "            \n",
    "    updated_prod_list.append(item)"
   ]
  },
  {
   "cell_type": "code",
   "execution_count": null,
   "id": "487365dd",
   "metadata": {},
   "outputs": [],
   "source": [
    "for product in updated_prod_list:\n",
    "    print(product)"
   ]
  },
  {
   "cell_type": "code",
   "execution_count": 4,
   "id": "8853596b",
   "metadata": {},
   "outputs": [],
   "source": [
    "#Updating Inventory List\n",
    "lst=[]\n",
    "fd=open('Inventory.txt','w')\n",
    "for i in updated_prod_list:\n",
    "    prod=i[0]+','+i[1]+','+i[2]+','+i[3]+'\\n'\n",
    "    lst.append(prod)\n",
    "lst[-1]=lst[-1][:-1]\n",
    "for i in lst:\n",
    "    fd.write(i)\n",
    "fd.close()"
   ]
  },
  {
   "cell_type": "code",
   "execution_count": null,
   "id": "366da184",
   "metadata": {},
   "outputs": [],
   "source": []
  }
 ],
 "metadata": {
  "kernelspec": {
   "display_name": "Python 3 (ipykernel)",
   "language": "python",
   "name": "python3"
  },
  "language_info": {
   "codemirror_mode": {
    "name": "ipython",
    "version": 3
   },
   "file_extension": ".py",
   "mimetype": "text/x-python",
   "name": "python",
   "nbconvert_exporter": "python",
   "pygments_lexer": "ipython3",
   "version": "3.10.9"
  }
 },
 "nbformat": 4,
 "nbformat_minor": 5
}
